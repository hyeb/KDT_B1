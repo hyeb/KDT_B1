{
 "cells": [
  {
   "cell_type": "markdown",
   "id": "0e39be00",
   "metadata": {},
   "source": [
    "# 모듈 설치 및 gpu 사용 설정"
   ]
  },
  {
   "cell_type": "markdown",
   "id": "dacc2105",
   "metadata": {},
   "source": [
    "# 데이터 전처리\n",
    "- 화자별 디렉토리 내에 있는 디렉토리를 각각 지정하여 전처리를 진행\n",
    "- 예를 들어 남1에 남1_소설1, 남1_동화1, 남1_어학1과 같이 3가지 디렉토리가 있으면 아래와 같이 전처리 진행\n",
    "\n",
    "  ` python preprocess.py --num-workers [화자 수] --name build --in_dir ./kaist-audio-book/wav/남1/남1_소설1 out_dir ./kaist-audio-book/wav/남1/남1_소설1 ` <br>\n",
    "  ` python preprocess.py --num-workers [화자 수] --name build --in_dir ./kaist-audio-book/wav/남1/남1_동화1 out_dir ./kaist-audio-book/wav/남1/남1_동화1 ` <br>\n",
    "  ` python preprocess.py --num-workers [화자 수] --name build --in_dir ./kaist-audio-book/wav/남1/남1_어학1 out_dir ./kaist-audio-book/wav/남1/남1_어학1 `"
   ]
  },
  {
   "cell_type": "markdown",
   "id": "4719c738",
   "metadata": {},
   "source": [
    "# 모델 학습\n",
    "- Tacotron2 학습\n",
    "\n",
    "  ` python train_tacotron2.py `<br>\n",
    "<br>\n",
    "\n",
    "- Vocoder 학습\n",
    "\n",
    "  ` python train_vocoder.py`"
   ]
  }
 ],
 "metadata": {
  "kernelspec": {
   "display_name": "Python 3 (ipykernel)",
   "language": "python",
   "name": "python3"
  },
  "language_info": {
   "codemirror_mode": {
    "name": "ipython",
    "version": 3
   },
   "file_extension": ".py",
   "mimetype": "text/x-python",
   "name": "python",
   "nbconvert_exporter": "python",
   "pygments_lexer": "ipython3",
   "version": "3.9.7"
  }
 },
 "nbformat": 4,
 "nbformat_minor": 5
}
